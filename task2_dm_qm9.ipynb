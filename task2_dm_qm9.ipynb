{
 "cells": [
  {
   "cell_type": "markdown",
   "metadata": {},
   "source": [
    "# Task 2: Generation on QM9 Dataset"
   ]
  },
  {
   "cell_type": "code",
   "execution_count": null,
   "metadata": {},
   "outputs": [],
   "source": [
    "# For Google Colaboratory\n",
    "import sys, os\n",
    "if \"google.colab\" in sys.modules:\n",
    "    from google.colab import drive\n",
    "    drive.mount(\"/content/drive/\")\n",
    "    path = \"/content/drive/MyDrive/yanming_dissertation/gt_v2/code/DiGress\"\n",
    "    os.chdir(path)\n",
    "    !pwd\n",
    "    \n",
    "    # Environment Setup\n",
    "    !pip install -q condacolab > /dev/null 2>&1\n",
    "    import condacolab\n",
    "    condacolab.install()\n",
    "    !conda install -c conda-forge rdkit=2023.03.2 -y > /dev/null 2>&1\n",
    "    !conda install -c conda-forge graph-tool=2.45 -y > /dev/null 2>&1\n",
    "    !conda install -c \"nvidia/label/cuda-11.8.0\" cuda -y > /dev/null 2>&1\n",
    "    !pip install -r requirements.txt > /dev/null 2>&1\n",
    "    !pip install -e . > /dev/null 2>&1\n",
    "    !g++ -O2 -std=c++11 -o orca orca.cpp > /dev/null 2>&1\n",
    "    print(\"Environment Setup Done.\")"
   ]
  }
 ],
 "metadata": {
  "kernelspec": {
   "display_name": "gml",
   "language": "python",
   "name": "python3"
  },
  "language_info": {
   "name": "python",
   "version": "3.8.20"
  }
 },
 "nbformat": 4,
 "nbformat_minor": 2
}
