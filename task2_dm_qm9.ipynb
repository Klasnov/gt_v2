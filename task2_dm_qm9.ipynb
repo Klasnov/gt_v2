{
 "cells": [
  {
   "cell_type": "markdown",
   "metadata": {},
   "source": [
    "# Task 2: Generation on QM9 Dataset"
   ]
  },
  {
   "cell_type": "code",
   "execution_count": null,
   "metadata": {},
   "outputs": [],
   "source": [
    "# For Google Colaboratory\n",
    "import sys, os\n",
    "import condacolab\n",
    "if \"google.colab\" in sys.modules:\n",
    "    from google.colab import drive\n",
    "    drive.mount(\"/content/drive/\")\n",
    "    path = \"/content/drive/MyDrive/yanming_dissertation/gt_v2/code/DiGress\"\n",
    "    os.chdir(path)\n",
    "\n",
    "    # Install conda (needed for graph-tool)\n",
    "    !pip install -q condacolab\n",
    "    condacolab.install()\n",
    "\n",
    "    # Install rdkit\n",
    "    !conda install -c conda-forge rdkit=2023.03.2 -y\n",
    "\n",
    "    # Verify rdkit installation\n",
    "    import rdkit\n",
    "    print(f\"rdkit version: {rdkit.__version__}\")\n",
    "\n",
    "    # Install graph-tool\n",
    "    !conda install -c conda-forge graph-tool=2.45 -y\n",
    "\n",
    "    # Verify graph-tool installation\n",
    "    import graph_tool as gt\n",
    "    print(gt.__version__)\n",
    "\n",
    "    # Install CUDA (if needed - check if you have a GPU runtime)\n",
    "    !nvidia-smi # Check if GPU is available. If not, change runtime type to GPU\n",
    "    !conda install -c \"nvidia/label/cuda-11.8.0\" cuda -y\n",
    "\n",
    "    # Install PyTorch (adjust CUDA version if necessary)\n",
    "    !pip install torch==2.0.1 --index-url https://download.pytorch.org/whl/cu118\n",
    "\n",
    "    # Install other packages from requirements.txt (if you have one uploaded)\n",
    "    # First, upload the requirements.txt file to Colab (using the Files tab)\n",
    "    # Then, use the following:\n",
    "    !pip install -r requirements.txt"
   ]
  }
 ],
 "metadata": {
  "kernelspec": {
   "display_name": "gml",
   "language": "python",
   "name": "python3"
  },
  "language_info": {
   "name": "python",
   "version": "3.8.20"
  }
 },
 "nbformat": 4,
 "nbformat_minor": 2
}
